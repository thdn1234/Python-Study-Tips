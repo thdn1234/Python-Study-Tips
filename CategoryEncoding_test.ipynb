{
 "cells": [
  {
   "cell_type": "code",
   "execution_count": 3,
   "metadata": {},
   "outputs": [
    {
     "name": "stdout",
     "output_type": "stream",
     "text": [
      "Collecting featuretools"
     ]
    },
    {
     "name": "stderr",
     "output_type": "stream",
     "text": [
      "WARNING: You are using pip version 20.1.1; however, version 20.3.1 is available.\n",
      "You should consider upgrading via the 'c:\\users\\owner\\pydataenv\\scripts\\python.exe -m pip install --upgrade pip' command.\n"
     ]
    },
    {
     "name": "stdout",
     "output_type": "stream",
     "text": [
      "\n",
      "  Downloading featuretools-0.22.0-py3-none-any.whl (294 kB)\n",
      "Requirement already satisfied: tqdm>=4.32.0 in c:\\users\\owner\\pydataenv\\lib\\site-packages (from featuretools) (4.51.0)\n",
      "Requirement already satisfied: pandas!=1.1.0,!=1.1.1,<2.0.0,>=0.24.1 in c:\\users\\owner\\pydataenv\\lib\\site-packages (from featuretools) (1.0.5)\n",
      "Requirement already satisfied: scipy>=0.13.3 in c:\\users\\owner\\pydataenv\\lib\\site-packages (from featuretools) (1.5.1)\n",
      "Collecting cloudpickle>=0.4.0\n",
      "  Downloading cloudpickle-1.6.0-py3-none-any.whl (23 kB)\n",
      "Requirement already satisfied: numpy>=1.13.3 in c:\\users\\owner\\pydataenv\\lib\\site-packages (from featuretools) (1.19.0)\n",
      "Collecting distributed>=2.12.0\n",
      "  Downloading distributed-2.30.1-py3-none-any.whl (656 kB)\n",
      "Requirement already satisfied: click>=7.0.0 in c:\\users\\owner\\pydataenv\\lib\\site-packages (from featuretools) (7.1.2)\n",
      "Collecting dask[dataframe]>=2.12.0\n",
      "  Downloading dask-2.30.0-py3-none-any.whl (848 kB)\n",
      "Collecting psutil>=5.4.8\n",
      "  Downloading psutil-5.7.3-cp38-cp38-win_amd64.whl (243 kB)\n",
      "Collecting pyyaml>=3.12\n",
      "  Downloading PyYAML-5.3.1-cp38-cp38-win_amd64.whl (219 kB)\n",
      "Requirement already satisfied: pytz>=2017.2 in c:\\users\\owner\\pydataenv\\lib\\site-packages (from pandas!=1.1.0,!=1.1.1,<2.0.0,>=0.24.1->featuretools) (2020.1)\n",
      "Requirement already satisfied: python-dateutil>=2.6.1 in c:\\users\\owner\\pydataenv\\lib\\site-packages (from pandas!=1.1.0,!=1.1.1,<2.0.0,>=0.24.1->featuretools) (2.8.1)\n",
      "Collecting zict>=0.1.3\n",
      "  Downloading zict-2.0.0-py3-none-any.whl (10 kB)\n",
      "Requirement already satisfied: tornado>=6.0.3; python_version >= \"3.8\" in c:\\users\\owner\\pydataenv\\lib\\site-packages (from distributed>=2.12.0->featuretools) (6.0.4)\n",
      "Collecting sortedcontainers!=2.0.0,!=2.0.1\n",
      "  Downloading sortedcontainers-2.3.0-py2.py3-none-any.whl (29 kB)\n",
      "Collecting toolz>=0.8.2\n",
      "  Downloading toolz-0.11.1-py3-none-any.whl (55 kB)\n",
      "Requirement already satisfied: setuptools in c:\\users\\owner\\pydataenv\\lib\\site-packages (from distributed>=2.12.0->featuretools) (41.2.0)\n",
      "Collecting tblib>=1.6.0\n",
      "  Downloading tblib-1.7.0-py2.py3-none-any.whl (12 kB)\n",
      "Collecting msgpack>=0.6.0\n",
      "  Downloading msgpack-1.0.0-cp38-cp38-win_amd64.whl (73 kB)\n",
      "Collecting partd>=0.3.10; extra == \"dataframe\"\n",
      "  Downloading partd-1.1.0-py3-none-any.whl (19 kB)\n",
      "Collecting fsspec>=0.6.0; extra == \"dataframe\"\n",
      "  Downloading fsspec-0.8.4-py3-none-any.whl (91 kB)\n",
      "Requirement already satisfied: six>=1.5 in c:\\users\\owner\\pydataenv\\lib\\site-packages (from python-dateutil>=2.6.1->pandas!=1.1.0,!=1.1.1,<2.0.0,>=0.24.1->featuretools) (1.15.0)\n",
      "Collecting heapdict\n",
      "  Downloading HeapDict-1.0.1-py3-none-any.whl (3.9 kB)\n",
      "Collecting locket\n",
      "  Downloading locket-0.2.0.tar.gz (3.5 kB)\n",
      "Using legacy setup.py install for locket, since package 'wheel' is not installed.\n",
      "Installing collected packages: cloudpickle, psutil, heapdict, zict, sortedcontainers, pyyaml, toolz, locket, partd, fsspec, dask, tblib, msgpack, distributed, featuretools\n",
      "    Running setup.py install for locket: started\n",
      "    Running setup.py install for locket: finished with status 'done'\n",
      "Successfully installed cloudpickle-1.6.0 dask-2.30.0 distributed-2.30.1 featuretools-0.22.0 fsspec-0.8.4 heapdict-1.0.1 locket-0.2.0 msgpack-1.0.0 partd-1.1.0 psutil-5.7.3 pyyaml-5.3.1 sortedcontainers-2.3.0 tblib-1.7.0 toolz-0.11.1 zict-2.0.0\n"
     ]
    }
   ],
   "source": [
    "# !pip install featuretools"
   ]
  },
  {
   "cell_type": "code",
   "execution_count": 4,
   "metadata": {},
   "outputs": [
    {
     "data": {
      "text/html": [
       "<div>\n",
       "<style scoped>\n",
       "    .dataframe tbody tr th:only-of-type {\n",
       "        vertical-align: middle;\n",
       "    }\n",
       "\n",
       "    .dataframe tbody tr th {\n",
       "        vertical-align: top;\n",
       "    }\n",
       "\n",
       "    .dataframe thead th {\n",
       "        text-align: right;\n",
       "    }\n",
       "</style>\n",
       "<table border=\"1\" class=\"dataframe\">\n",
       "  <thead>\n",
       "    <tr style=\"text-align: right;\">\n",
       "      <th></th>\n",
       "      <th>session_id</th>\n",
       "      <th>customer_id</th>\n",
       "      <th>device</th>\n",
       "      <th>session_start</th>\n",
       "    </tr>\n",
       "  </thead>\n",
       "  <tbody>\n",
       "    <tr>\n",
       "      <th>0</th>\n",
       "      <td>1</td>\n",
       "      <td>2</td>\n",
       "      <td>desktop</td>\n",
       "      <td>2014-01-01 00:00:00</td>\n",
       "    </tr>\n",
       "    <tr>\n",
       "      <th>1</th>\n",
       "      <td>2</td>\n",
       "      <td>5</td>\n",
       "      <td>mobile</td>\n",
       "      <td>2014-01-01 00:17:20</td>\n",
       "    </tr>\n",
       "    <tr>\n",
       "      <th>2</th>\n",
       "      <td>3</td>\n",
       "      <td>4</td>\n",
       "      <td>mobile</td>\n",
       "      <td>2014-01-01 00:28:10</td>\n",
       "    </tr>\n",
       "    <tr>\n",
       "      <th>3</th>\n",
       "      <td>4</td>\n",
       "      <td>1</td>\n",
       "      <td>mobile</td>\n",
       "      <td>2014-01-01 00:44:25</td>\n",
       "    </tr>\n",
       "    <tr>\n",
       "      <th>4</th>\n",
       "      <td>5</td>\n",
       "      <td>4</td>\n",
       "      <td>mobile</td>\n",
       "      <td>2014-01-01 01:11:30</td>\n",
       "    </tr>\n",
       "  </tbody>\n",
       "</table>\n",
       "</div>"
      ],
      "text/plain": [
       "   session_id  customer_id   device       session_start\n",
       "0           1            2  desktop 2014-01-01 00:00:00\n",
       "1           2            5   mobile 2014-01-01 00:17:20\n",
       "2           3            4   mobile 2014-01-01 00:28:10\n",
       "3           4            1   mobile 2014-01-01 00:44:25\n",
       "4           5            4   mobile 2014-01-01 01:11:30"
      ]
     },
     "execution_count": 4,
     "metadata": {},
     "output_type": "execute_result"
    }
   ],
   "source": [
    "import featuretools as ft\n",
    "\n",
    "# load data\n",
    "data = ft.demo.load_mock_customer()\n",
    "df_session = data['sessions']\n",
    "\n",
    "df_session.head()"
   ]
  },
  {
   "cell_type": "code",
   "execution_count": 7,
   "metadata": {},
   "outputs": [
    {
     "data": {
      "text/html": [
       "<div>\n",
       "<style scoped>\n",
       "    .dataframe tbody tr th:only-of-type {\n",
       "        vertical-align: middle;\n",
       "    }\n",
       "\n",
       "    .dataframe tbody tr th {\n",
       "        vertical-align: top;\n",
       "    }\n",
       "\n",
       "    .dataframe thead th {\n",
       "        text-align: right;\n",
       "    }\n",
       "</style>\n",
       "<table border=\"1\" class=\"dataframe\">\n",
       "  <thead>\n",
       "    <tr style=\"text-align: right;\">\n",
       "      <th></th>\n",
       "      <th>session_id</th>\n",
       "      <th>customer_id</th>\n",
       "      <th>device_1</th>\n",
       "      <th>device_2</th>\n",
       "      <th>device_3</th>\n",
       "      <th>session_start</th>\n",
       "    </tr>\n",
       "  </thead>\n",
       "  <tbody>\n",
       "    <tr>\n",
       "      <th>0</th>\n",
       "      <td>1</td>\n",
       "      <td>2</td>\n",
       "      <td>1</td>\n",
       "      <td>0</td>\n",
       "      <td>0</td>\n",
       "      <td>2014-01-01 00:00:00</td>\n",
       "    </tr>\n",
       "    <tr>\n",
       "      <th>1</th>\n",
       "      <td>2</td>\n",
       "      <td>5</td>\n",
       "      <td>0</td>\n",
       "      <td>1</td>\n",
       "      <td>0</td>\n",
       "      <td>2014-01-01 00:17:20</td>\n",
       "    </tr>\n",
       "    <tr>\n",
       "      <th>2</th>\n",
       "      <td>3</td>\n",
       "      <td>4</td>\n",
       "      <td>0</td>\n",
       "      <td>1</td>\n",
       "      <td>0</td>\n",
       "      <td>2014-01-01 00:28:10</td>\n",
       "    </tr>\n",
       "    <tr>\n",
       "      <th>3</th>\n",
       "      <td>4</td>\n",
       "      <td>1</td>\n",
       "      <td>0</td>\n",
       "      <td>1</td>\n",
       "      <td>0</td>\n",
       "      <td>2014-01-01 00:44:25</td>\n",
       "    </tr>\n",
       "    <tr>\n",
       "      <th>4</th>\n",
       "      <td>5</td>\n",
       "      <td>4</td>\n",
       "      <td>0</td>\n",
       "      <td>1</td>\n",
       "      <td>0</td>\n",
       "      <td>2014-01-01 01:11:30</td>\n",
       "    </tr>\n",
       "  </tbody>\n",
       "</table>\n",
       "</div>"
      ],
      "text/plain": [
       "   session_id  customer_id  device_1  device_2  device_3       session_start\n",
       "0           1            2         1         0         0 2014-01-01 00:00:00\n",
       "1           2            5         0         1         0 2014-01-01 00:17:20\n",
       "2           3            4         0         1         0 2014-01-01 00:28:10\n",
       "3           4            1         0         1         0 2014-01-01 00:44:25\n",
       "4           5            4         0         1         0 2014-01-01 01:11:30"
      ]
     },
     "execution_count": 7,
     "metadata": {},
     "output_type": "execute_result"
    }
   ],
   "source": [
    "import category_encoders as ce\n",
    "\n",
    "# Eoncodeしたい列をリストで指定。もちろん複数指定可能。\n",
    "list_cols = ['device']\n",
    "\n",
    "# OneHotEncodeしたい列を指定。Nullや不明の場合の補完方法も指定。\n",
    "ce_ohe = ce.OneHotEncoder(cols=list_cols,handle_unknown='impute')\n",
    "\n",
    "# pd.DataFrameをそのまま突っ込む\n",
    "df_session_ce_onehot = ce_ohe.fit_transform(df_session)\n",
    "\n",
    "df_session_ce_onehot.head()"
   ]
  },
  {
   "cell_type": "code",
   "execution_count": 8,
   "metadata": {
    "scrolled": true
   },
   "outputs": [
    {
     "data": {
      "text/html": [
       "<div>\n",
       "<style scoped>\n",
       "    .dataframe tbody tr th:only-of-type {\n",
       "        vertical-align: middle;\n",
       "    }\n",
       "\n",
       "    .dataframe tbody tr th {\n",
       "        vertical-align: top;\n",
       "    }\n",
       "\n",
       "    .dataframe thead th {\n",
       "        text-align: right;\n",
       "    }\n",
       "</style>\n",
       "<table border=\"1\" class=\"dataframe\">\n",
       "  <thead>\n",
       "    <tr style=\"text-align: right;\">\n",
       "      <th></th>\n",
       "      <th>session_id</th>\n",
       "      <th>customer_id</th>\n",
       "      <th>device</th>\n",
       "      <th>session_start</th>\n",
       "    </tr>\n",
       "  </thead>\n",
       "  <tbody>\n",
       "    <tr>\n",
       "      <th>0</th>\n",
       "      <td>1</td>\n",
       "      <td>2</td>\n",
       "      <td>1</td>\n",
       "      <td>2014-01-01 00:00:00</td>\n",
       "    </tr>\n",
       "    <tr>\n",
       "      <th>1</th>\n",
       "      <td>2</td>\n",
       "      <td>5</td>\n",
       "      <td>2</td>\n",
       "      <td>2014-01-01 00:17:20</td>\n",
       "    </tr>\n",
       "    <tr>\n",
       "      <th>2</th>\n",
       "      <td>3</td>\n",
       "      <td>4</td>\n",
       "      <td>2</td>\n",
       "      <td>2014-01-01 00:28:10</td>\n",
       "    </tr>\n",
       "    <tr>\n",
       "      <th>3</th>\n",
       "      <td>4</td>\n",
       "      <td>1</td>\n",
       "      <td>2</td>\n",
       "      <td>2014-01-01 00:44:25</td>\n",
       "    </tr>\n",
       "    <tr>\n",
       "      <th>4</th>\n",
       "      <td>5</td>\n",
       "      <td>4</td>\n",
       "      <td>2</td>\n",
       "      <td>2014-01-01 01:11:30</td>\n",
       "    </tr>\n",
       "  </tbody>\n",
       "</table>\n",
       "</div>"
      ],
      "text/plain": [
       "   session_id  customer_id  device       session_start\n",
       "0           1            2       1 2014-01-01 00:00:00\n",
       "1           2            5       2 2014-01-01 00:17:20\n",
       "2           3            4       2 2014-01-01 00:28:10\n",
       "3           4            1       2 2014-01-01 00:44:25\n",
       "4           5            4       2 2014-01-01 01:11:30"
      ]
     },
     "execution_count": 8,
     "metadata": {},
     "output_type": "execute_result"
    }
   ],
   "source": [
    "# Eoncodeしたい列をリストで指定。もちろん複数指定可能。\n",
    "list_cols = ['device']\n",
    "\n",
    "# 序数をカテゴリに付与して変換\n",
    "ce_oe = ce.OrdinalEncoder(cols=list_cols,handle_unknown='impute')\n",
    "df_session_ce_ordinal = ce_oe.fit_transform(df_session)\n",
    "\n",
    "df_session_ce_ordinal.head()"
   ]
  },
  {
   "cell_type": "code",
   "execution_count": 19,
   "metadata": {
    "scrolled": true
   },
   "outputs": [
    {
     "data": {
      "text/plain": [
       "[{'col': 'device',\n",
       "  'mapping': desktop    1\n",
       "  mobile     2\n",
       "  tablet     3\n",
       "  NaN       -2\n",
       "  dtype: int64,\n",
       "  'data_type': dtype('O')}]"
      ]
     },
     "execution_count": 19,
     "metadata": {},
     "output_type": "execute_result"
    }
   ],
   "source": [
    "ce_oe.category_mapping"
   ]
  },
  {
   "cell_type": "code",
   "execution_count": 21,
   "metadata": {},
   "outputs": [
    {
     "data": {
      "text/plain": [
       "desktop    14\n",
       "mobile     13\n",
       "tablet      8\n",
       "Name: device, dtype: int64"
      ]
     },
     "execution_count": 21,
     "metadata": {},
     "output_type": "execute_result"
    }
   ],
   "source": [
    "df_session[\"device\"].value_counts()"
   ]
  }
 ],
 "metadata": {
  "kernelspec": {
   "display_name": "Python 3",
   "language": "python",
   "name": "python3"
  },
  "language_info": {
   "codemirror_mode": {
    "name": "ipython",
    "version": 3
   },
   "file_extension": ".py",
   "mimetype": "text/x-python",
   "name": "python",
   "nbconvert_exporter": "python",
   "pygments_lexer": "ipython3",
   "version": "3.8.3"
  }
 },
 "nbformat": 4,
 "nbformat_minor": 4
}
